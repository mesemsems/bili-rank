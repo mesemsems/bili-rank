{
 "cells": [
  {
   "cell_type": "code",
   "execution_count": 1,
   "metadata": {},
   "outputs": [],
   "source": [
    "import numpy as np\n",
    "import pandas as pd\n",
    "\n",
    "from pyecharts.charts import Bar,Pie,Timeline\n",
    "\n",
    "from pandas import DataFrame,Series\n",
    "from pyecharts.globals import ThemeType\n",
    "\n",
    "from pyecharts import options as opts\n",
    "from pyecharts.faker import Faker"
   ]
  },
  {
   "cell_type": "code",
   "execution_count": 2,
   "metadata": {},
   "outputs": [],
   "source": [
    "df = pd.read_csv(\"../bilibili/bilibili06-23.csv\")\n",
    "df1 = pd.read_csv(\"../bilibili/bilibili06-24.csv\")\n",
    "df2 = pd.read_csv(\"../bilibili/bilibili06-25.csv\")\n",
    "df3 = pd.read_csv(\"../bilibili/bilibili06-26.csv\")"
   ]
  },
  {
   "cell_type": "code",
   "execution_count": 3,
   "metadata": {},
   "outputs": [],
   "source": [
    "def g_w(x):\n",
    "    return x/10000"
   ]
  },
  {
   "cell_type": "code",
   "execution_count": 4,
   "metadata": {},
   "outputs": [],
   "source": [
    "def decimals_g_w(df_x):\n",
    "    df_x[\"coin\"] = g_w(df_x[\"coin\"]).round(decimals=4)\n",
    "    df_x[\"danmaku\"] = g_w(df_x[\"danmaku\"]).round(decimals=4)\n",
    "    df_x[\"favorite\"] = g_w(df_x[\"favorite\"]).round(decimals=4)\n",
    "    df_x[\"like\"] = g_w(df_x[\"like\"]).round(decimals=4)\n",
    "    df_x[\"reply\"] = g_w(df_x[\"reply\"]).round(decimals=4)\n",
    "    df_x[\"share\"] = g_w(df_x[\"share\"]).round(decimals=4)\n",
    "    df_x[\"view\"] = g_w(df_x[\"view\"]).round(decimals=4)\n",
    "    return df_x"
   ]
  },
  {
   "cell_type": "code",
   "execution_count": 5,
   "metadata": {},
   "outputs": [],
   "source": [
    "df = decimals_g_w(df)\n",
    "df1 = decimals_g_w(df1)\n",
    "df2 = decimals_g_w(df2)\n",
    "df3 = decimals_g_w(df3)"
   ]
  },
  {
   "cell_type": "markdown",
   "metadata": {},
   "source": [
    "##### 单日视频播放量统计"
   ]
  },
  {
   "cell_type": "code",
   "execution_count": 6,
   "metadata": {},
   "outputs": [],
   "source": [
    "def view_rank_sum(df_x):\n",
    "    view_sum = np.sum(df_x[\"view\"])\n",
    "    return view_sum"
   ]
  },
  {
   "cell_type": "code",
   "execution_count": 7,
   "metadata": {},
   "outputs": [],
   "source": [
    "y = view_rank_sum(df).round(decimals=4)\n",
    "y1 = view_rank_sum(df1).round(decimals=4)\n",
    "y2 = view_rank_sum(df2).round(decimals=4)\n",
    "y3 = view_rank_sum(df3).round(decimals=4)"
   ]
  },
  {
   "cell_type": "code",
   "execution_count": 8,
   "metadata": {},
   "outputs": [],
   "source": [
    "y_list = [y,y1,y2,y3]"
   ]
  },
  {
   "cell_type": "code",
   "execution_count": 9,
   "metadata": {},
   "outputs": [],
   "source": [
    "bar = (\n",
    "    Bar(init_opts = opts.InitOpts(\n",
    "            width='1500px',\n",
    "            height='700px'\n",
    "        ))\n",
    "    .add_xaxis(['06-23','06-24','06-25','06-26'])\n",
    "    .add_yaxis(\"播放量\",y_list)\n",
    "    .set_global_opts(\n",
    "        toolbox_opts=opts.ToolboxOpts(),\n",
    "        title_opts = opts.TitleOpts(title = \"b站每日播放量数据统计\"),\n",
    "        # datazoom_opts = opts.DataZoomOpts(orient = \"vertical\"),\n",
    "        yaxis_opts = opts.AxisOpts(axislabel_opts = opts.LabelOpts(formatter = \"{value}日\")),\n",
    "        xaxis_opts = opts.AxisOpts(axislabel_opts = opts.LabelOpts(formatter = \"{value} /万\"))\n",
    "    )\n",
    "    .reversal_axis()\n",
    "    #.render_notebook()\n",
    "    .render(\"b站每日播放量数据统计.html\")\n",
    ")"
   ]
  },
  {
   "cell_type": "code",
   "execution_count": 10,
   "metadata": {},
   "outputs": [
    {
     "data": {
      "text/plain": [
       "'C:\\\\Users\\\\wsgzs\\\\notebooks\\\\Teach\\\\projects\\\\SDLG\\\\bilibili\\\\b站每日播放量数据统计.html'"
      ]
     },
     "execution_count": 10,
     "metadata": {},
     "output_type": "execute_result"
    }
   ],
   "source": [
    "bar"
   ]
  }
 ],
 "metadata": {
  "kernelspec": {
   "display_name": "Python 3",
   "language": "python",
   "name": "python3"
  },
  "language_info": {
   "codemirror_mode": {
    "name": "ipython",
    "version": 3
   },
   "file_extension": ".py",
   "mimetype": "text/x-python",
   "name": "python",
   "nbconvert_exporter": "python",
   "pygments_lexer": "ipython3",
   "version": "3.8.5"
  }
 },
 "nbformat": 4,
 "nbformat_minor": 4
}
