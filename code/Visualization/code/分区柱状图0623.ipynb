{
 "cells": [
  {
   "cell_type": "code",
   "execution_count": 63,
   "metadata": {},
   "outputs": [],
   "source": [
    "import numpy as np\n",
    "import pandas as pd\n",
    "\n",
    "from pyecharts.charts import Bar,Pie,Timeline\n",
    "\n",
    "from pandas import DataFrame,Series\n",
    "from pyecharts.globals import ThemeType\n",
    "\n",
    "from pyecharts import options as opts\n",
    "from pyecharts.faker import Faker"
   ]
  },
  {
   "cell_type": "code",
   "execution_count": 64,
   "metadata": {},
   "outputs": [],
   "source": [
    "df = pd.read_csv(\"../bilibili/bilibili06-23.csv\")"
   ]
  },
  {
   "cell_type": "code",
   "execution_count": 65,
   "metadata": {},
   "outputs": [],
   "source": [
    "def g_w(x):\n",
    "    return x/10000"
   ]
  },
  {
   "cell_type": "code",
   "execution_count": 66,
   "metadata": {},
   "outputs": [],
   "source": [
    "def decimals_g_w(df_x):\n",
    "    df_x[\"coin\"] = g_w(df_x[\"coin\"]).round(decimals=4)\n",
    "    df_x[\"danmaku\"] = g_w(df_x[\"danmaku\"]).round(decimals=4)\n",
    "    df_x[\"favorite\"] = g_w(df_x[\"favorite\"]).round(decimals=4)\n",
    "    df_x[\"like\"] = g_w(df_x[\"like\"]).round(decimals=4)\n",
    "    df_x[\"reply\"] = g_w(df_x[\"reply\"]).round(decimals=4)\n",
    "    df_x[\"share\"] = g_w(df_x[\"share\"]).round(decimals=4)\n",
    "    df_x[\"view\"] = g_w(df_x[\"view\"]).round(decimals=4)\n",
    "    return df_x"
   ]
  },
  {
   "cell_type": "code",
   "execution_count": 67,
   "metadata": {},
   "outputs": [],
   "source": [
    "df = decimals_g_w(df)"
   ]
  },
  {
   "cell_type": "markdown",
   "metadata": {},
   "source": [
    "##### 函数方法 df_ rank_tab 分析单日分区数据"
   ]
  },
  {
   "cell_type": "code",
   "execution_count": 70,
   "metadata": {},
   "outputs": [],
   "source": [
    "def _rank_tab(df_x):\n",
    "    rank_tab = df_x.groupby(['rank_tab']).agg({\n",
    "        \"view\":\"sum\",\n",
    "        \"coin\":\"sum\",\n",
    "        \"danmaku\":\"sum\",\n",
    "        \"favorite\":\"sum\",\n",
    "        \"like\":\"sum\",\n",
    "        \"reply\":\"sum\",\n",
    "        \"share\":\"sum\"\n",
    "    })\n",
    "    return rank_tab "
   ]
  },
  {
   "cell_type": "code",
   "execution_count": 71,
   "metadata": {
    "scrolled": false
   },
   "outputs": [],
   "source": [
    "df_rank_tab = _rank_tab(df).sort_values([\"view\"],ascending=False)"
   ]
  },
  {
   "cell_type": "code",
   "execution_count": 72,
   "metadata": {},
   "outputs": [],
   "source": [
    "x = list(df_rank_tab.index)"
   ]
  },
  {
   "cell_type": "code",
   "execution_count": 73,
   "metadata": {},
   "outputs": [],
   "source": [
    "def list_a(n):\n",
    "    a = []\n",
    "    for _list in  n:\n",
    "        a.append('%.4f'%(_list))\n",
    "    _list=a\n",
    "    return _list"
   ]
  },
  {
   "cell_type": "code",
   "execution_count": 74,
   "metadata": {},
   "outputs": [],
   "source": [
    "y1 = list_a(df_rank_tab['view'])\n",
    "y2 = list_a(df_rank_tab['coin'])\n",
    "y3 = list_a(df_rank_tab['danmaku'])\n",
    "y4 = list_a(df_rank_tab['favorite'])\n",
    "y5 = list_a(df_rank_tab['like'])\n",
    "y6 = list_a(df_rank_tab['reply'])\n",
    "y7 = list_a(df_rank_tab['share'])"
   ]
  },
  {
   "cell_type": "code",
   "execution_count": 76,
   "metadata": {
    "scrolled": true
   },
   "outputs": [
    {
     "data": {
      "text/html": [
       "<div>\n",
       "<style scoped>\n",
       "    .dataframe tbody tr th:only-of-type {\n",
       "        vertical-align: middle;\n",
       "    }\n",
       "\n",
       "    .dataframe tbody tr th {\n",
       "        vertical-align: top;\n",
       "    }\n",
       "\n",
       "    .dataframe thead th {\n",
       "        text-align: right;\n",
       "    }\n",
       "</style>\n",
       "<table border=\"1\" class=\"dataframe\">\n",
       "  <thead>\n",
       "    <tr style=\"text-align: right;\">\n",
       "      <th></th>\n",
       "      <th>view</th>\n",
       "      <th>coin</th>\n",
       "      <th>danmaku</th>\n",
       "      <th>favorite</th>\n",
       "      <th>like</th>\n",
       "      <th>reply</th>\n",
       "      <th>share</th>\n",
       "    </tr>\n",
       "  </thead>\n",
       "  <tbody>\n",
       "    <tr>\n",
       "      <th>count</th>\n",
       "      <td>16.000000</td>\n",
       "      <td>16.000000</td>\n",
       "      <td>16.000000</td>\n",
       "      <td>16.000000</td>\n",
       "      <td>16.000000</td>\n",
       "      <td>16.000000</td>\n",
       "      <td>16.000000</td>\n",
       "    </tr>\n",
       "    <tr>\n",
       "      <th>mean</th>\n",
       "      <td>9224.213869</td>\n",
       "      <td>269.385494</td>\n",
       "      <td>42.788806</td>\n",
       "      <td>199.537625</td>\n",
       "      <td>577.969862</td>\n",
       "      <td>19.081731</td>\n",
       "      <td>61.707575</td>\n",
       "    </tr>\n",
       "    <tr>\n",
       "      <th>std</th>\n",
       "      <td>8621.081045</td>\n",
       "      <td>372.422161</td>\n",
       "      <td>40.512355</td>\n",
       "      <td>268.560960</td>\n",
       "      <td>500.155965</td>\n",
       "      <td>12.735381</td>\n",
       "      <td>94.961806</td>\n",
       "    </tr>\n",
       "    <tr>\n",
       "      <th>min</th>\n",
       "      <td>3068.507800</td>\n",
       "      <td>15.213500</td>\n",
       "      <td>6.087800</td>\n",
       "      <td>11.228700</td>\n",
       "      <td>109.270700</td>\n",
       "      <td>5.305100</td>\n",
       "      <td>5.748300</td>\n",
       "    </tr>\n",
       "    <tr>\n",
       "      <th>25%</th>\n",
       "      <td>4620.697625</td>\n",
       "      <td>74.071125</td>\n",
       "      <td>14.381875</td>\n",
       "      <td>55.248375</td>\n",
       "      <td>292.294275</td>\n",
       "      <td>9.650150</td>\n",
       "      <td>16.118175</td>\n",
       "    </tr>\n",
       "    <tr>\n",
       "      <th>50%</th>\n",
       "      <td>5825.119750</td>\n",
       "      <td>174.871050</td>\n",
       "      <td>30.689350</td>\n",
       "      <td>122.928400</td>\n",
       "      <td>454.407450</td>\n",
       "      <td>16.594600</td>\n",
       "      <td>24.134250</td>\n",
       "    </tr>\n",
       "    <tr>\n",
       "      <th>75%</th>\n",
       "      <td>10877.573125</td>\n",
       "      <td>262.244300</td>\n",
       "      <td>51.693300</td>\n",
       "      <td>248.313050</td>\n",
       "      <td>608.767150</td>\n",
       "      <td>23.858275</td>\n",
       "      <td>55.745250</td>\n",
       "    </tr>\n",
       "    <tr>\n",
       "      <th>max</th>\n",
       "      <td>39227.890300</td>\n",
       "      <td>1562.971700</td>\n",
       "      <td>165.877200</td>\n",
       "      <td>1137.494400</td>\n",
       "      <td>2195.300000</td>\n",
       "      <td>47.391300</td>\n",
       "      <td>381.422500</td>\n",
       "    </tr>\n",
       "  </tbody>\n",
       "</table>\n",
       "</div>"
      ],
      "text/plain": [
       "               view         coin     danmaku     favorite         like  \\\n",
       "count     16.000000    16.000000   16.000000    16.000000    16.000000   \n",
       "mean    9224.213869   269.385494   42.788806   199.537625   577.969862   \n",
       "std     8621.081045   372.422161   40.512355   268.560960   500.155965   \n",
       "min     3068.507800    15.213500    6.087800    11.228700   109.270700   \n",
       "25%     4620.697625    74.071125   14.381875    55.248375   292.294275   \n",
       "50%     5825.119750   174.871050   30.689350   122.928400   454.407450   \n",
       "75%    10877.573125   262.244300   51.693300   248.313050   608.767150   \n",
       "max    39227.890300  1562.971700  165.877200  1137.494400  2195.300000   \n",
       "\n",
       "           reply       share  \n",
       "count  16.000000   16.000000  \n",
       "mean   19.081731   61.707575  \n",
       "std    12.735381   94.961806  \n",
       "min     5.305100    5.748300  \n",
       "25%     9.650150   16.118175  \n",
       "50%    16.594600   24.134250  \n",
       "75%    23.858275   55.745250  \n",
       "max    47.391300  381.422500  "
      ]
     },
     "execution_count": 76,
     "metadata": {},
     "output_type": "execute_result"
    }
   ],
   "source": [
    "df_rank_tab.describe()"
   ]
  },
  {
   "cell_type": "markdown",
   "metadata": {},
   "source": [
    "##### 单日视频各项数据统计"
   ]
  },
  {
   "cell_type": "code",
   "execution_count": 77,
   "metadata": {},
   "outputs": [],
   "source": [
    "bar = (\n",
    "    Bar(init_opts = opts.InitOpts(\n",
    "            width='1500px',\n",
    "            height='700px'\n",
    "        ))\n",
    "    \n",
    "    .add_xaxis(x)\n",
    "    .add_yaxis('播放量', y1)\n",
    "    .add_yaxis('投币量', y2)\n",
    "    .add_yaxis('弹幕量', y3)\n",
    "    .add_yaxis('收藏量', y4)\n",
    "    .add_yaxis('点赞量', y5)\n",
    "    .add_yaxis('回复量', y6)\n",
    "    .add_yaxis('转发量', y7)\n",
    "    .set_series_opts(label_opts = opts.LabelOpts(position=\"right\"))\n",
    "    .set_global_opts(\n",
    "        toolbox_opts=opts.ToolboxOpts(),\n",
    "        title_opts = opts.TitleOpts(title = \"06-23各分区各项数据统计\"),\n",
    "        # datazoom_opts = opts.DataZoomOpts(orient = \"vertical\"),\n",
    "        datazoom_opts = [opts.DataZoomOpts(), opts.DataZoomOpts(orient = \"vertical\"), opts.DataZoomOpts(type_=\"inside\")],\n",
    "        yaxis_opts = opts.AxisOpts(axislabel_opts = opts.LabelOpts(formatter = \"{value} /万\"))\n",
    "        # xaxis_opts = opts.AxisOpts(axislabel_opts = opts.LabelOpts(formatter = \"{value} /万\"))\n",
    "    )\n",
    "    # .reversal_axis()\n",
    "    #.render_notebook()\n",
    "    .render(\"06-23各分区各项数据统计.html\")\n",
    ")"
   ]
  }
 ],
 "metadata": {
  "kernelspec": {
   "display_name": "Python 3",
   "language": "python",
   "name": "python3"
  },
  "language_info": {
   "codemirror_mode": {
    "name": "ipython",
    "version": 3
   },
   "file_extension": ".py",
   "mimetype": "text/x-python",
   "name": "python",
   "nbconvert_exporter": "python",
   "pygments_lexer": "ipython3",
   "version": "3.8.5"
  }
 },
 "nbformat": 4,
 "nbformat_minor": 4
}
