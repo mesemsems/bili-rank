{
 "cells": [
  {
   "cell_type": "code",
   "execution_count": 18,
   "metadata": {},
   "outputs": [],
   "source": [
    "import numpy as np\n",
    "import pandas as pd\n",
    "\n",
    "from pyecharts.charts import Bar,Pie,Timeline\n",
    "\n",
    "from pandas import DataFrame,Series\n",
    "from pyecharts.globals import ThemeType\n",
    "\n",
    "from pyecharts import options as opts\n",
    "from pyecharts.faker import Faker"
   ]
  },
  {
   "cell_type": "code",
   "execution_count": 19,
   "metadata": {},
   "outputs": [],
   "source": [
    "df3 = pd.read_csv(\"../bilibili/bilibili06-26.csv\")"
   ]
  },
  {
   "cell_type": "code",
   "execution_count": 20,
   "metadata": {},
   "outputs": [],
   "source": [
    "def g_w(x):\n",
    "    return x/10000"
   ]
  },
  {
   "cell_type": "code",
   "execution_count": 21,
   "metadata": {},
   "outputs": [],
   "source": [
    "def decimals_g_w(df_x):\n",
    "    df_x[\"coin\"] = g_w(df_x[\"coin\"]).round(decimals=4)\n",
    "    df_x[\"danmaku\"] = g_w(df_x[\"danmaku\"]).round(decimals=4)\n",
    "    df_x[\"favorite\"] = g_w(df_x[\"favorite\"]).round(decimals=4)\n",
    "    df_x[\"like\"] = g_w(df_x[\"like\"]).round(decimals=4)\n",
    "    df_x[\"reply\"] = g_w(df_x[\"reply\"]).round(decimals=4)\n",
    "    df_x[\"share\"] = g_w(df_x[\"share\"]).round(decimals=4)\n",
    "    df_x[\"view\"] = g_w(df_x[\"view\"]).round(decimals=4)\n",
    "    return df_x"
   ]
  },
  {
   "cell_type": "code",
   "execution_count": 22,
   "metadata": {},
   "outputs": [],
   "source": [
    "df3 = decimals_g_w(df3)"
   ]
  },
  {
   "cell_type": "markdown",
   "metadata": {},
   "source": [
    "##### 函数方法 df_ rank_tab 分析单日分区数据"
   ]
  },
  {
   "cell_type": "code",
   "execution_count": 23,
   "metadata": {},
   "outputs": [],
   "source": [
    "def _rank_tab(df_x):\n",
    "    rank_tab = df_x.groupby(['rank_tab']).agg({\n",
    "        \"view\":\"sum\",\n",
    "        \"coin\":\"sum\",\n",
    "        \"danmaku\":\"sum\",\n",
    "        \"favorite\":\"sum\",\n",
    "        \"like\":\"sum\",\n",
    "        \"reply\":\"sum\",\n",
    "        \"share\":\"sum\"\n",
    "    })\n",
    "    return rank_tab "
   ]
  },
  {
   "cell_type": "code",
   "execution_count": 24,
   "metadata": {
    "scrolled": false
   },
   "outputs": [],
   "source": [
    "df_rank_tab3 = _rank_tab(df3).sort_values([\"view\"],ascending=False)"
   ]
  },
  {
   "cell_type": "code",
   "execution_count": 25,
   "metadata": {},
   "outputs": [],
   "source": [
    "x = list(df_rank_tab3.index)"
   ]
  },
  {
   "cell_type": "code",
   "execution_count": 26,
   "metadata": {},
   "outputs": [],
   "source": [
    "def list_a(n):\n",
    "    a = []\n",
    "    for _list in  n:\n",
    "        a.append('%.4f'%(_list))\n",
    "    _list=a\n",
    "    return _list"
   ]
  },
  {
   "cell_type": "code",
   "execution_count": 27,
   "metadata": {},
   "outputs": [],
   "source": [
    "y1 = list_a(df_rank_tab3['view'])\n",
    "y2 = list_a(df_rank_tab3['coin'])\n",
    "y3 = list_a(df_rank_tab3['danmaku'])\n",
    "y4 = list_a(df_rank_tab3['favorite'])\n",
    "y5 = list_a(df_rank_tab3['like'])\n",
    "y6 = list_a(df_rank_tab3['reply'])\n",
    "y7 = list_a(df_rank_tab3['share'])"
   ]
  },
  {
   "cell_type": "markdown",
   "metadata": {},
   "source": [
    "##### 单日视频各项数据统计"
   ]
  },
  {
   "cell_type": "code",
   "execution_count": 28,
   "metadata": {},
   "outputs": [],
   "source": [
    "bar = (\n",
    "    Bar(init_opts = opts.InitOpts(\n",
    "            width='1500px',\n",
    "            height='700px'\n",
    "        ))\n",
    "    \n",
    "    .add_xaxis(x)\n",
    "    .add_yaxis('播放量', y1)\n",
    "    .add_yaxis('投币量', y2)\n",
    "    .add_yaxis('弹幕量', y3)\n",
    "    .add_yaxis('收藏量', y4)\n",
    "    .add_yaxis('点赞量', y5)\n",
    "    .add_yaxis('回复量', y6)\n",
    "    .add_yaxis('转发量', y7)\n",
    "    .set_series_opts(label_opts = opts.LabelOpts(position=\"right\"))\n",
    "    .set_global_opts(\n",
    "        toolbox_opts=opts.ToolboxOpts(),\n",
    "        title_opts = opts.TitleOpts(title = \"06-26各分区各项数据统计\"),\n",
    "        # datazoom_opts = opts.DataZoomOpts(orient = \"vertical\"),\n",
    "        datazoom_opts = [opts.DataZoomOpts(), opts.DataZoomOpts(orient = \"vertical\"), opts.DataZoomOpts(type_=\"inside\")],\n",
    "        yaxis_opts = opts.AxisOpts(axislabel_opts = opts.LabelOpts(formatter = \"{value} /万\"))\n",
    "        # xaxis_opts = opts.AxisOpts(axislabel_opts = opts.LabelOpts(formatter = \"{value} /万\"))\n",
    "    )\n",
    "    # .reversal_axis()\n",
    "    #.render_notebook()\n",
    "    .render(\"06-26各分区各项数据统计.html\")\n",
    ")"
   ]
  }
 ],
 "metadata": {
  "kernelspec": {
   "display_name": "Python 3",
   "language": "python",
   "name": "python3"
  },
  "language_info": {
   "codemirror_mode": {
    "name": "ipython",
    "version": 3
   },
   "file_extension": ".py",
   "mimetype": "text/x-python",
   "name": "python",
   "nbconvert_exporter": "python",
   "pygments_lexer": "ipython3",
   "version": "3.8.5"
  }
 },
 "nbformat": 4,
 "nbformat_minor": 4
}
