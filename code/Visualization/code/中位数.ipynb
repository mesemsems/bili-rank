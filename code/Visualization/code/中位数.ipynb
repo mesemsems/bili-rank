{
 "cells": [
  {
   "cell_type": "code",
   "execution_count": 488,
   "metadata": {},
   "outputs": [],
   "source": [
    "import numpy as np\n",
    "import pandas as pd\n",
    "\n",
    "from pyecharts.charts import Bar,Pie,Timeline\n",
    "\n",
    "from pandas import DataFrame,Series\n",
    "from pyecharts.globals import ThemeType\n",
    "\n",
    "from pyecharts import options as opts\n",
    "from pyecharts.faker import Faker"
   ]
  },
  {
   "cell_type": "code",
   "execution_count": 489,
   "metadata": {},
   "outputs": [],
   "source": [
    "df = pd.read_csv(\"../bilibili/bilibili06-23.csv\")\n",
    "df1 = pd.read_csv(\"../bilibili/bilibili06-24.csv\")\n",
    "df2 = pd.read_csv(\"../bilibili/bilibili06-25.csv\")\n",
    "df3 = pd.read_csv(\"../bilibili/bilibili06-26.csv\")"
   ]
  },
  {
   "cell_type": "code",
   "execution_count": 490,
   "metadata": {},
   "outputs": [],
   "source": [
    "def g_w(x):\n",
    "    return x/10000"
   ]
  },
  {
   "cell_type": "code",
   "execution_count": 491,
   "metadata": {},
   "outputs": [],
   "source": [
    "def decimals_g_w(df_x):\n",
    "    df_x[\"coin\"] = g_w(df_x[\"coin\"]).round(decimals=4)\n",
    "    df_x[\"danmaku\"] = g_w(df_x[\"danmaku\"]).round(decimals=4)\n",
    "    df_x[\"favorite\"] = g_w(df_x[\"favorite\"]).round(decimals=4)\n",
    "    df_x[\"like\"] = g_w(df_x[\"like\"]).round(decimals=4)\n",
    "    df_x[\"reply\"] = g_w(df_x[\"reply\"]).round(decimals=4)\n",
    "    df_x[\"share\"] = g_w(df_x[\"share\"]).round(decimals=4)\n",
    "    df_x[\"view\"] = g_w(df_x[\"view\"]).round(decimals=4)\n",
    "    return df_x"
   ]
  },
  {
   "cell_type": "code",
   "execution_count": 492,
   "metadata": {},
   "outputs": [],
   "source": [
    "def _describe_info(df_x):\n",
    "    d_max = []\n",
    "    d_min = []\n",
    "    d_median = []\n",
    "    df_x = decimals_g_w(df_x)\n",
    "    df_x = df_x.drop(['score','title','time','id','author'],axis=1)\n",
    "    #df_x.index = df_x.loc[:,\"rank_tab\"]\n",
    "    #name = \"全站\"\n",
    "    name_list = ['全站','国创相关',\"鬼畜\",\"舞蹈\",\"音乐\",\"知识\",\"时尚\",\"生活\",\"动物圈\",\"动画\",\"影视\",\"游戏\",\"美食\",\"科技\",\"娱乐\",\"汽车\"]\n",
    "    for _name in name_list: \n",
    "        #print(_name)\n",
    "        df_mean_tmp = df_x.loc[df[\"rank_tab\"] == _name]\n",
    "        #print(df_mean_tmp)\n",
    "        d_max_tmp = df_mean_tmp[\"view\"].max()\n",
    "        d_median_tmp = df_mean_tmp[\"view\"].median()\n",
    "        d_min_tmp = df_mean_tmp[\"view\"].min()\n",
    "        d_max.append(d_max_tmp)\n",
    "        d_min.append(d_min_tmp)\n",
    "        d_median.append(d_median_tmp)\n",
    "        #print(d_max,d_median,d_min)\n",
    "    return d_max,d_median,d_min"
   ]
  },
  {
   "cell_type": "code",
   "execution_count": 493,
   "metadata": {},
   "outputs": [],
   "source": [
    "y_list = []\n",
    "y = _describe_info(df)\n",
    "y1 = _describe_info(df1)\n",
    "y2 = _describe_info(df2)\n",
    "y3 = _describe_info(df3)\n",
    "y_list.append(y)\n",
    "y_list.append(y1)\n",
    "y_list.append(y2)\n",
    "y_list.append(y3)"
   ]
  },
  {
   "cell_type": "code",
   "execution_count": 494,
   "metadata": {},
   "outputs": [],
   "source": [
    "x = ['全站','国创相关',\"鬼畜\",\"舞蹈\",\"音乐\",\"知识\",\"时尚\",\"生活\",\"动物圈\",\"动画\",\"影视\",\"游戏\",\"美食\",\"科技\",\"娱乐\",\"汽车\"]"
   ]
  },
  {
   "cell_type": "code",
   "execution_count": 506,
   "metadata": {},
   "outputs": [
    {
     "data": {
      "text/plain": [
       "'C:\\\\Users\\\\wsgzs\\\\notebooks\\\\Teach\\\\projects\\\\SDLG\\\\bilibili\\\\某日各分区描述性统计图.html'"
      ]
     },
     "execution_count": 506,
     "metadata": {},
     "output_type": "execute_result"
    }
   ],
   "source": [
    "tl = Timeline(\n",
    "        init_opts = opts.InitOpts(width='1500px',height='700px')\n",
    "        )\n",
    "for i in range(23, 27):\n",
    "    bar = (\n",
    "        Bar(init_opts = opts.InitOpts(\n",
    "                width='1500px',\n",
    "                height='700px'\n",
    "            ))\n",
    "        .add_xaxis(x)\n",
    "        .add_yaxis('最大值',y_list[i-23][0])\n",
    "        .add_yaxis('中位数',y_list[i-23][1])\n",
    "        .add_yaxis('最小值',y_list[i-23][2])\n",
    "        .set_global_opts(\n",
    "            # toolbox_opts = opts.ToolboxOpts(is_show = True),\n",
    "            title_opts = opts.TitleOpts(\"{}日各分区描述性统计图\".format(i)),\n",
    "            yaxis_opts = opts.AxisOpts(axislabel_opts = opts.LabelOpts(formatter = \"{value} /万\"))\n",
    "        )\n",
    "        #.render(\"06-23各分区各项数据统计.html\")\n",
    "    )\n",
    "    tl.add(bar, \"{}日\".format(i))\n",
    "#tl.render_notebook()\n",
    "tl.render(\"某日各分区描述性统计图.html\")"
   ]
  }
 ],
 "metadata": {
  "kernelspec": {
   "display_name": "Python 3",
   "language": "python",
   "name": "python3"
  },
  "language_info": {
   "codemirror_mode": {
    "name": "ipython",
    "version": 3
   },
   "file_extension": ".py",
   "mimetype": "text/x-python",
   "name": "python",
   "nbconvert_exporter": "python",
   "pygments_lexer": "ipython3",
   "version": "3.8.5"
  }
 },
 "nbformat": 4,
 "nbformat_minor": 4
}
