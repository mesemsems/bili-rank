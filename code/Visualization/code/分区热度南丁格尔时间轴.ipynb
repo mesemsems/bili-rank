{
 "cells": [
  {
   "cell_type": "code",
   "execution_count": 2,
   "metadata": {},
   "outputs": [],
   "source": [
    "import numpy as np\n",
    "import pandas as pd\n",
    "\n",
    "from pyecharts.charts import Bar,Pie,Timeline\n",
    "\n",
    "from pandas import DataFrame,Series\n",
    "from pyecharts.globals import ThemeType\n",
    "\n",
    "from pyecharts import options as opts\n",
    "from pyecharts.faker import Faker"
   ]
  },
  {
   "cell_type": "code",
   "execution_count": 3,
   "metadata": {},
   "outputs": [],
   "source": [
    "df = pd.read_csv(\"../bilibili/bilibili06-23.csv\")\n",
    "df1 = pd.read_csv(\"../bilibili/bilibili06-24.csv\")\n",
    "df2 = pd.read_csv(\"../bilibili/bilibili06-25.csv\")\n",
    "df3 = pd.read_csv(\"../bilibili/bilibili06-26.csv\")"
   ]
  },
  {
   "cell_type": "code",
   "execution_count": 4,
   "metadata": {
    "scrolled": true
   },
   "outputs": [
    {
     "data": {
      "text/html": [
       "<div>\n",
       "<style scoped>\n",
       "    .dataframe tbody tr th:only-of-type {\n",
       "        vertical-align: middle;\n",
       "    }\n",
       "\n",
       "    .dataframe tbody tr th {\n",
       "        vertical-align: top;\n",
       "    }\n",
       "\n",
       "    .dataframe thead th {\n",
       "        text-align: right;\n",
       "    }\n",
       "</style>\n",
       "<table border=\"1\" class=\"dataframe\">\n",
       "  <thead>\n",
       "    <tr style=\"text-align: right;\">\n",
       "      <th></th>\n",
       "      <th>author</th>\n",
       "      <th>coin</th>\n",
       "      <th>danmaku</th>\n",
       "      <th>favorite</th>\n",
       "      <th>id</th>\n",
       "      <th>like</th>\n",
       "      <th>rank_num</th>\n",
       "      <th>rank_tab</th>\n",
       "      <th>reply</th>\n",
       "      <th>score</th>\n",
       "      <th>share</th>\n",
       "      <th>time</th>\n",
       "      <th>title</th>\n",
       "      <th>view</th>\n",
       "    </tr>\n",
       "  </thead>\n",
       "  <tbody>\n",
       "    <tr>\n",
       "      <th>0</th>\n",
       "      <td>一条视频</td>\n",
       "      <td>10334</td>\n",
       "      <td>1259</td>\n",
       "      <td>10905</td>\n",
       "      <td>BV12q4y1j7fy</td>\n",
       "      <td>46418</td>\n",
       "      <td>100</td>\n",
       "      <td>全站</td>\n",
       "      <td>5842</td>\n",
       "      <td>954906</td>\n",
       "      <td>6178</td>\n",
       "      <td>2021/6/23</td>\n",
       "      <td>暴瘦到28公斤后，我办了国内首个身材焦虑展</td>\n",
       "      <td>695413</td>\n",
       "    </tr>\n",
       "    <tr>\n",
       "      <th>1</th>\n",
       "      <td>小片片说大片</td>\n",
       "      <td>8083</td>\n",
       "      <td>3448</td>\n",
       "      <td>5954</td>\n",
       "      <td>BV1764y1y73k</td>\n",
       "      <td>67389</td>\n",
       "      <td>100</td>\n",
       "      <td>国创相关</td>\n",
       "      <td>1658</td>\n",
       "      <td>33279</td>\n",
       "      <td>1031</td>\n",
       "      <td>2021/6/23</td>\n",
       "      <td>反转惊人！20分钟从煽情落泪到毛骨悚然，黑马国创新作《时光代理人》</td>\n",
       "      <td>993166</td>\n",
       "    </tr>\n",
       "    <tr>\n",
       "      <th>2</th>\n",
       "      <td>想吃柚子的柚子君</td>\n",
       "      <td>275</td>\n",
       "      <td>350</td>\n",
       "      <td>1224</td>\n",
       "      <td>BV1wy4y137b5</td>\n",
       "      <td>4234</td>\n",
       "      <td>99</td>\n",
       "      <td>国创相关</td>\n",
       "      <td>464</td>\n",
       "      <td>33914</td>\n",
       "      <td>257</td>\n",
       "      <td>2021/6/23</td>\n",
       "      <td>阿离和阿离的舞蹈对决</td>\n",
       "      <td>111449</td>\n",
       "    </tr>\n",
       "    <tr>\n",
       "      <th>3</th>\n",
       "      <td>动漫秀AnimeReviews</td>\n",
       "      <td>35</td>\n",
       "      <td>37</td>\n",
       "      <td>50</td>\n",
       "      <td>BV1HK4y1X74c</td>\n",
       "      <td>620</td>\n",
       "      <td>98</td>\n",
       "      <td>国创相关</td>\n",
       "      <td>100</td>\n",
       "      <td>34209</td>\n",
       "      <td>3</td>\n",
       "      <td>2021/6/23</td>\n",
       "      <td>萧炎以炎帝之名召唤22种异火让斗气大陆一分为二，盘点让萧炎拼劲全力的5场战斗</td>\n",
       "      <td>55329</td>\n",
       "    </tr>\n",
       "    <tr>\n",
       "      <th>4</th>\n",
       "      <td>霁月麒麟</td>\n",
       "      <td>68</td>\n",
       "      <td>195</td>\n",
       "      <td>552</td>\n",
       "      <td>BV1Zh411e7Z4</td>\n",
       "      <td>6822</td>\n",
       "      <td>97</td>\n",
       "      <td>国创相关</td>\n",
       "      <td>535</td>\n",
       "      <td>35041</td>\n",
       "      <td>118</td>\n",
       "      <td>2021/6/23</td>\n",
       "      <td>马克终于恢复人形，决心报仇</td>\n",
       "      <td>441279</td>\n",
       "    </tr>\n",
       "    <tr>\n",
       "      <th>...</th>\n",
       "      <td>...</td>\n",
       "      <td>...</td>\n",
       "      <td>...</td>\n",
       "      <td>...</td>\n",
       "      <td>...</td>\n",
       "      <td>...</td>\n",
       "      <td>...</td>\n",
       "      <td>...</td>\n",
       "      <td>...</td>\n",
       "      <td>...</td>\n",
       "      <td>...</td>\n",
       "      <td>...</td>\n",
       "      <td>...</td>\n",
       "      <td>...</td>\n",
       "    </tr>\n",
       "    <tr>\n",
       "      <th>1595</th>\n",
       "      <td>哈米伦的弄笛者</td>\n",
       "      <td>94997</td>\n",
       "      <td>2965</td>\n",
       "      <td>84159</td>\n",
       "      <td>BV1cK4y13789</td>\n",
       "      <td>146650</td>\n",
       "      <td>5</td>\n",
       "      <td>全站</td>\n",
       "      <td>2356</td>\n",
       "      <td>2327421</td>\n",
       "      <td>13338</td>\n",
       "      <td>2021/6/23</td>\n",
       "      <td>【原神剧场】泳装少女的魅力盛夏</td>\n",
       "      <td>1212178</td>\n",
       "    </tr>\n",
       "    <tr>\n",
       "      <th>1596</th>\n",
       "      <td>歌白说Geslook</td>\n",
       "      <td>101092</td>\n",
       "      <td>11517</td>\n",
       "      <td>87933</td>\n",
       "      <td>BV1nK4y1X72z</td>\n",
       "      <td>150802</td>\n",
       "      <td>4</td>\n",
       "      <td>全站</td>\n",
       "      <td>1851</td>\n",
       "      <td>2360274</td>\n",
       "      <td>4693</td>\n",
       "      <td>2021/6/23</td>\n",
       "      <td>自律上瘾！一招教你自律，不自律的大脑有多狡猾？背后原因让人恐惧……【歌白】</td>\n",
       "      <td>1524852</td>\n",
       "    </tr>\n",
       "    <tr>\n",
       "      <th>1597</th>\n",
       "      <td>裹小脚的大叔</td>\n",
       "      <td>212247</td>\n",
       "      <td>4215</td>\n",
       "      <td>475493</td>\n",
       "      <td>BV1Yb4y1Z786</td>\n",
       "      <td>305552</td>\n",
       "      <td>3</td>\n",
       "      <td>全站</td>\n",
       "      <td>3402</td>\n",
       "      <td>2737548</td>\n",
       "      <td>21350</td>\n",
       "      <td>2021/6/23</td>\n",
       "      <td>呆住，学霸都这么找资源的？网友：白活了20年！</td>\n",
       "      <td>3119965</td>\n",
       "    </tr>\n",
       "    <tr>\n",
       "      <th>1598</th>\n",
       "      <td>冬眠羊与小鼬酱</td>\n",
       "      <td>279900</td>\n",
       "      <td>22415</td>\n",
       "      <td>158502</td>\n",
       "      <td>BV1Gq4y177xS</td>\n",
       "      <td>237704</td>\n",
       "      <td>2</td>\n",
       "      <td>全站</td>\n",
       "      <td>5750</td>\n",
       "      <td>3070915</td>\n",
       "      <td>15169</td>\n",
       "      <td>2021/6/23</td>\n",
       "      <td>拜托三连了！这绝对是全B站最用心的火影剪辑，耗时千余小时剪辑！</td>\n",
       "      <td>1824677</td>\n",
       "    </tr>\n",
       "    <tr>\n",
       "      <th>1599</th>\n",
       "      <td>老番茄</td>\n",
       "      <td>187392</td>\n",
       "      <td>16312</td>\n",
       "      <td>71294</td>\n",
       "      <td>BV1tA41137T8</td>\n",
       "      <td>348006</td>\n",
       "      <td>1</td>\n",
       "      <td>全站</td>\n",
       "      <td>4073</td>\n",
       "      <td>3465982</td>\n",
       "      <td>2889</td>\n",
       "      <td>2021/6/23</td>\n",
       "      <td>史上最骚魔法师！(第三集)</td>\n",
       "      <td>2733428</td>\n",
       "    </tr>\n",
       "  </tbody>\n",
       "</table>\n",
       "<p>1600 rows × 14 columns</p>\n",
       "</div>"
      ],
      "text/plain": [
       "               author    coin  danmaku  favorite            id    like  \\\n",
       "0                一条视频   10334     1259     10905  BV12q4y1j7fy   46418   \n",
       "1              小片片说大片    8083     3448      5954  BV1764y1y73k   67389   \n",
       "2            想吃柚子的柚子君     275      350      1224  BV1wy4y137b5    4234   \n",
       "3     动漫秀AnimeReviews      35       37        50  BV1HK4y1X74c     620   \n",
       "4                霁月麒麟      68      195       552  BV1Zh411e7Z4    6822   \n",
       "...               ...     ...      ...       ...           ...     ...   \n",
       "1595          哈米伦的弄笛者   94997     2965     84159  BV1cK4y13789  146650   \n",
       "1596       歌白说Geslook  101092    11517     87933  BV1nK4y1X72z  150802   \n",
       "1597           裹小脚的大叔  212247     4215    475493  BV1Yb4y1Z786  305552   \n",
       "1598          冬眠羊与小鼬酱  279900    22415    158502  BV1Gq4y177xS  237704   \n",
       "1599              老番茄  187392    16312     71294  BV1tA41137T8  348006   \n",
       "\n",
       "      rank_num rank_tab  reply    score  share       time  \\\n",
       "0          100       全站   5842   954906   6178  2021/6/23   \n",
       "1          100     国创相关   1658    33279   1031  2021/6/23   \n",
       "2           99     国创相关    464    33914    257  2021/6/23   \n",
       "3           98     国创相关    100    34209      3  2021/6/23   \n",
       "4           97     国创相关    535    35041    118  2021/6/23   \n",
       "...        ...      ...    ...      ...    ...        ...   \n",
       "1595         5       全站   2356  2327421  13338  2021/6/23   \n",
       "1596         4       全站   1851  2360274   4693  2021/6/23   \n",
       "1597         3       全站   3402  2737548  21350  2021/6/23   \n",
       "1598         2       全站   5750  3070915  15169  2021/6/23   \n",
       "1599         1       全站   4073  3465982   2889  2021/6/23   \n",
       "\n",
       "                                       title     view  \n",
       "0                      暴瘦到28公斤后，我办了国内首个身材焦虑展   695413  \n",
       "1          反转惊人！20分钟从煽情落泪到毛骨悚然，黑马国创新作《时光代理人》   993166  \n",
       "2                                 阿离和阿离的舞蹈对决   111449  \n",
       "3     萧炎以炎帝之名召唤22种异火让斗气大陆一分为二，盘点让萧炎拼劲全力的5场战斗    55329  \n",
       "4                              马克终于恢复人形，决心报仇   441279  \n",
       "...                                      ...      ...  \n",
       "1595                         【原神剧场】泳装少女的魅力盛夏  1212178  \n",
       "1596   自律上瘾！一招教你自律，不自律的大脑有多狡猾？背后原因让人恐惧……【歌白】  1524852  \n",
       "1597                 呆住，学霸都这么找资源的？网友：白活了20年！  3119965  \n",
       "1598         拜托三连了！这绝对是全B站最用心的火影剪辑，耗时千余小时剪辑！  1824677  \n",
       "1599                           史上最骚魔法师！(第三集)  2733428  \n",
       "\n",
       "[1600 rows x 14 columns]"
      ]
     },
     "execution_count": 4,
     "metadata": {},
     "output_type": "execute_result"
    }
   ],
   "source": [
    "df"
   ]
  },
  {
   "cell_type": "markdown",
   "metadata": {},
   "source": [
    "##### 单位化万 g_w()函数"
   ]
  },
  {
   "cell_type": "code",
   "execution_count": 5,
   "metadata": {},
   "outputs": [],
   "source": [
    "def g_w(x):\n",
    "    return x/10000"
   ]
  },
  {
   "cell_type": "markdown",
   "metadata": {},
   "source": [
    "##### 保留四位小数 decimals_g_w(df_x)函数"
   ]
  },
  {
   "cell_type": "code",
   "execution_count": 6,
   "metadata": {},
   "outputs": [],
   "source": [
    "def decimals_g_w(df_x):\n",
    "    df_x[\"coin\"] = g_w(df_x[\"coin\"]).round(decimals=4)\n",
    "    df_x[\"danmaku\"] = g_w(df_x[\"danmaku\"]).round(decimals=4)\n",
    "    df_x[\"favorite\"] = g_w(df_x[\"favorite\"]).round(decimals=4)\n",
    "    df_x[\"like\"] = g_w(df_x[\"like\"]).round(decimals=4)\n",
    "    df_x[\"reply\"] = g_w(df_x[\"reply\"]).round(decimals=4)\n",
    "    df_x[\"share\"] = g_w(df_x[\"share\"]).round(decimals=4)\n",
    "    df_x[\"view\"] = g_w(df_x[\"view\"]).round(decimals=4)\n",
    "    df_x[\"hot\"]=(df_x[\"coin\"]*0.1+df_x[\"danmaku\"]*0.1+df_x[\"favorite\"]*0.1+df_x[\"like\"]*0.2+df_x[\"reply\"]*0.1+df_x[\"share\"]*0.1+df_x[\"view\"]*0.3).round(decimals=4)\n",
    "    return df_x"
   ]
  },
  {
   "cell_type": "markdown",
   "metadata": {},
   "source": [
    "##### 函数方法 df_ rank_tab 分析单日分区数据"
   ]
  },
  {
   "cell_type": "code",
   "execution_count": 7,
   "metadata": {},
   "outputs": [],
   "source": [
    "def _rank_tab(df_x):\n",
    "    rank_tab = df_x.groupby(['rank_tab']).agg({\n",
    "        \"view\":\"sum\",\n",
    "        \"coin\":\"sum\",\n",
    "        \"danmaku\":\"sum\",\n",
    "        \"favorite\":\"sum\",\n",
    "        \"like\":\"sum\",\n",
    "        \"reply\":\"sum\",\n",
    "        \"share\":\"sum\",\n",
    "        \"hot\" :\"sum\"\n",
    "    })\n",
    "    return rank_tab "
   ]
  },
  {
   "cell_type": "markdown",
   "metadata": {},
   "source": [
    "##### 函数方法list_a 保留4位小数"
   ]
  },
  {
   "cell_type": "code",
   "execution_count": 8,
   "metadata": {},
   "outputs": [],
   "source": [
    "def list_a(n):\n",
    "    a = []\n",
    "    for _list in  n:\n",
    "        a.append('%.4f'%(_list))\n",
    "    _list=a\n",
    "    return _list"
   ]
  },
  {
   "cell_type": "markdown",
   "metadata": {},
   "source": [
    "#####  分区热度南丁格尔图"
   ]
  },
  {
   "cell_type": "markdown",
   "metadata": {},
   "source": [
    "##### 分区数据排序函数 data_list_fit(df_x)"
   ]
  },
  {
   "cell_type": "code",
   "execution_count": 9,
   "metadata": {},
   "outputs": [],
   "source": [
    "def data_list_fit(df_x):\n",
    "    df_x = decimals_g_w(df_x)\n",
    "    df_rt = _rank_tab(df_x).sort_values([\"view\"],ascending=False)\n",
    "    return df_rt"
   ]
  },
  {
   "cell_type": "code",
   "execution_count": 10,
   "metadata": {},
   "outputs": [],
   "source": [
    "df_rank_tab_list = []\n",
    "df_rank_tab_list.append(data_list_fit(df))\n",
    "df_rank_tab_list.append(data_list_fit(df1))\n",
    "df_rank_tab_list.append(data_list_fit(df2))\n",
    "df_rank_tab_list.append(data_list_fit(df3))"
   ]
  },
  {
   "cell_type": "markdown",
   "metadata": {},
   "source": [
    "##### 分区数据存储函数 data_zip(df_rt)"
   ]
  },
  {
   "cell_type": "code",
   "execution_count": 11,
   "metadata": {},
   "outputs": [],
   "source": [
    "t = []"
   ]
  },
  {
   "cell_type": "code",
   "execution_count": 12,
   "metadata": {},
   "outputs": [],
   "source": [
    "def data_zip(df_rt):\n",
    "    x = list(df_rt.index)\n",
    "    y8 = list_a(df_rt[\"hot\"])\n",
    "    t.append( [(i,j) for i, j in zip(x,y8)])\n",
    "    return t"
   ]
  },
  {
   "cell_type": "code",
   "execution_count": 13,
   "metadata": {},
   "outputs": [],
   "source": [
    "for df_r_t in df_rank_tab_list:\n",
    "    t_data = data_zip(df_r_t)"
   ]
  },
  {
   "cell_type": "code",
   "execution_count": 14,
   "metadata": {},
   "outputs": [
    {
     "data": {
      "text/plain": [
       "[[('鬼畜', '12536.4016'),\n",
       "  ('音乐', '3950.1248'),\n",
       "  ('舞蹈', '3779.6399'),\n",
       "  ('全站', '3788.6391'),\n",
       "  ('知识', '3424.1317'),\n",
       "  ('影视', '3125.4775'),\n",
       "  ('生活', '2842.7540'),\n",
       "  ('科技', '1984.6958'),\n",
       "  ('游戏', '1815.0042'),\n",
       "  ('娱乐', '1728.0560'),\n",
       "  ('美食', '1688.4773'),\n",
       "  ('动画', '1520.4822'),\n",
       "  ('动物圈', '1401.6746'),\n",
       "  ('国创相关', '1326.6368'),\n",
       "  ('时尚', '1214.2220'),\n",
       "  ('汽车', '947.3143')],\n",
       " [('鬼畜', '9817.7020'),\n",
       "  ('舞蹈', '5324.7718'),\n",
       "  ('全站', '4234.7170'),\n",
       "  ('音乐', '4022.9870'),\n",
       "  ('知识', '3183.8974'),\n",
       "  ('时尚', '2904.4755'),\n",
       "  ('生活', '2559.1554'),\n",
       "  ('动物圈', '2218.6006'),\n",
       "  ('动画', '2252.6266'),\n",
       "  ('影视', '2082.0985'),\n",
       "  ('国创相关', '1989.1283'),\n",
       "  ('游戏', '1890.8706'),\n",
       "  ('美食', '1804.8030'),\n",
       "  ('科技', '1665.7197'),\n",
       "  ('娱乐', '1520.5989'),\n",
       "  ('汽车', '763.0618')],\n",
       " [('鬼畜', '12291.4156'),\n",
       "  ('舞蹈', '5484.8901'),\n",
       "  ('音乐', '4104.3102'),\n",
       "  ('全站', '3983.0657'),\n",
       "  ('生活', '2768.4740'),\n",
       "  ('时尚', '2343.3368'),\n",
       "  ('影视', '2152.1558'),\n",
       "  ('国创相关', '1838.5309'),\n",
       "  ('游戏', '1784.7980'),\n",
       "  ('科技', '1653.6418'),\n",
       "  ('娱乐', '1560.7438'),\n",
       "  ('知识', '1243.7467'),\n",
       "  ('美食', '1159.5864'),\n",
       "  ('动物圈', '898.0181'),\n",
       "  ('动画', '731.4180'),\n",
       "  ('汽车', '266.4424')],\n",
       " [('鬼畜', '11012.3732'),\n",
       "  ('音乐', '4092.8882'),\n",
       "  ('生活', '3150.4049'),\n",
       "  ('知识', '2629.1539'),\n",
       "  ('动画', '2292.8513'),\n",
       "  ('影视', '2177.6613'),\n",
       "  ('国创相关', '2113.6461'),\n",
       "  ('美食', '1927.2857'),\n",
       "  ('动物圈', '1474.1702'),\n",
       "  ('娱乐', '1422.6150'),\n",
       "  ('科技', '1374.0676'),\n",
       "  ('时尚', '1285.6049'),\n",
       "  ('舞蹈', '1172.2051'),\n",
       "  ('全站', '1037.1438'),\n",
       "  ('汽车', '481.8445'),\n",
       "  ('游戏', '201.1831')]]"
      ]
     },
     "execution_count": 14,
     "metadata": {},
     "output_type": "execute_result"
    }
   ],
   "source": [
    "t_data "
   ]
  },
  {
   "cell_type": "markdown",
   "metadata": {},
   "source": [
    "##### 南丁格尔图"
   ]
  },
  {
   "cell_type": "code",
   "execution_count": 15,
   "metadata": {},
   "outputs": [
    {
     "data": {
      "text/plain": [
       "'C:\\\\Users\\\\wsgzs\\\\notebooks\\\\Teach\\\\projects\\\\SDLG\\\\bilibili\\\\分区热度南丁格尔图时间轴.html'"
      ]
     },
     "execution_count": 15,
     "metadata": {},
     "output_type": "execute_result"
    }
   ],
   "source": [
    "tl = Timeline(\n",
    "        init_opts = opts.InitOpts(width='1500px',height='700px')\n",
    "        )\n",
    "for i in range(23, 27):\n",
    "    pie = (\n",
    "        Pie(init_opts = opts.InitOpts(\n",
    "            width='1500px',\n",
    "            height='700px'\n",
    "        ))\n",
    "        .add(\n",
    "            series_name = ' ', \n",
    "            data_pair= t_data[i-23],\n",
    "            rosetype='radius')\n",
    "        .set_global_opts(title_opts=opts.TitleOpts(\"{}日分区热度统计图\".format(i)))\n",
    "        .set_series_opts(label_opts=opts.LabelOpts(formatter=\"{b}: {c}\"))\n",
    "    )\n",
    "    tl.add(pie, \"{}日\".format(i))\n",
    "#tl.render_notebook()\n",
    "tl.render(\"分区热度南丁格尔图时间轴.html\")"
   ]
  }
 ],
 "metadata": {
  "kernelspec": {
   "display_name": "Python 3",
   "language": "python",
   "name": "python3"
  },
  "language_info": {
   "codemirror_mode": {
    "name": "ipython",
    "version": 3
   },
   "file_extension": ".py",
   "mimetype": "text/x-python",
   "name": "python",
   "nbconvert_exporter": "python",
   "pygments_lexer": "ipython3",
   "version": "3.8.5"
  }
 },
 "nbformat": 4,
 "nbformat_minor": 4
}
